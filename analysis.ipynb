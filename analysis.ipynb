{
 "cells": [
  {
   "cell_type": "code",
   "execution_count": 3,
   "metadata": {},
   "outputs": [],
   "source": [
    "import matplotlib.pyplot as plt\n",
    "import seaborn as sns\n",
    "import pandas as pd"
   ]
  },
  {
   "cell_type": "markdown",
   "metadata": {},
   "source": [
    "## Load results"
   ]
  },
  {
   "cell_type": "code",
   "execution_count": 8,
   "metadata": {},
   "outputs": [
    {
     "data": {
      "text/html": [
       "<div>\n",
       "<style scoped>\n",
       "    .dataframe tbody tr th:only-of-type {\n",
       "        vertical-align: middle;\n",
       "    }\n",
       "\n",
       "    .dataframe tbody tr th {\n",
       "        vertical-align: top;\n",
       "    }\n",
       "\n",
       "    .dataframe thead th {\n",
       "        text-align: right;\n",
       "    }\n",
       "</style>\n",
       "<table border=\"1\" class=\"dataframe\">\n",
       "  <thead>\n",
       "    <tr style=\"text-align: right;\">\n",
       "      <th></th>\n",
       "      <th>epoch</th>\n",
       "      <th>time</th>\n",
       "      <th>train_loss</th>\n",
       "      <th>val_loss</th>\n",
       "      <th>train_ppl</th>\n",
       "      <th>val_ppl</th>\n",
       "      <th>val_bpc</th>\n",
       "      <th>train_bpc</th>\n",
       "      <th>memalloc_Gb</th>\n",
       "      <th>memcache_Gb</th>\n",
       "      <th>max_memalloc_Gb</th>\n",
       "      <th>max_memcache_Gb</th>\n",
       "      <th>asgd_triggered</th>\n",
       "    </tr>\n",
       "  </thead>\n",
       "  <tbody>\n",
       "    <tr>\n",
       "      <th>0</th>\n",
       "      <td>1</td>\n",
       "      <td>388.912852</td>\n",
       "      <td>6.508866</td>\n",
       "      <td>6.512987</td>\n",
       "      <td>671.064676</td>\n",
       "      <td>673.836395</td>\n",
       "      <td>9.396255</td>\n",
       "      <td>9.390308</td>\n",
       "      <td>0.431330</td>\n",
       "      <td>4.879286</td>\n",
       "      <td>4.755397</td>\n",
       "      <td>4.879286</td>\n",
       "      <td>False</td>\n",
       "    </tr>\n",
       "    <tr>\n",
       "      <th>1</th>\n",
       "      <td>2</td>\n",
       "      <td>391.462797</td>\n",
       "      <td>6.423655</td>\n",
       "      <td>6.432876</td>\n",
       "      <td>616.251376</td>\n",
       "      <td>621.960343</td>\n",
       "      <td>9.280679</td>\n",
       "      <td>9.267375</td>\n",
       "      <td>0.351639</td>\n",
       "      <td>4.879286</td>\n",
       "      <td>4.755397</td>\n",
       "      <td>4.879286</td>\n",
       "      <td>False</td>\n",
       "    </tr>\n",
       "    <tr>\n",
       "      <th>2</th>\n",
       "      <td>3</td>\n",
       "      <td>389.818821</td>\n",
       "      <td>6.345110</td>\n",
       "      <td>6.361315</td>\n",
       "      <td>569.699979</td>\n",
       "      <td>579.007272</td>\n",
       "      <td>9.177438</td>\n",
       "      <td>9.154059</td>\n",
       "      <td>0.351639</td>\n",
       "      <td>4.879286</td>\n",
       "      <td>4.755397</td>\n",
       "      <td>4.879286</td>\n",
       "      <td>False</td>\n",
       "    </tr>\n",
       "    <tr>\n",
       "      <th>3</th>\n",
       "      <td>4</td>\n",
       "      <td>389.294408</td>\n",
       "      <td>6.256032</td>\n",
       "      <td>6.277458</td>\n",
       "      <td>521.147163</td>\n",
       "      <td>532.433679</td>\n",
       "      <td>9.056458</td>\n",
       "      <td>9.025547</td>\n",
       "      <td>0.351639</td>\n",
       "      <td>4.879286</td>\n",
       "      <td>4.755397</td>\n",
       "      <td>4.879286</td>\n",
       "      <td>False</td>\n",
       "    </tr>\n",
       "    <tr>\n",
       "      <th>4</th>\n",
       "      <td>5</td>\n",
       "      <td>386.238709</td>\n",
       "      <td>6.158435</td>\n",
       "      <td>6.182516</td>\n",
       "      <td>472.687861</td>\n",
       "      <td>484.208913</td>\n",
       "      <td>8.919486</td>\n",
       "      <td>8.884744</td>\n",
       "      <td>0.351639</td>\n",
       "      <td>4.879286</td>\n",
       "      <td>4.755397</td>\n",
       "      <td>4.879286</td>\n",
       "      <td>False</td>\n",
       "    </tr>\n",
       "  </tbody>\n",
       "</table>\n",
       "</div>"
      ],
      "text/plain": [
       "   epoch        time  train_loss  val_loss   train_ppl     val_ppl   val_bpc  \\\n",
       "0      1  388.912852    6.508866  6.512987  671.064676  673.836395  9.396255   \n",
       "1      2  391.462797    6.423655  6.432876  616.251376  621.960343  9.280679   \n",
       "2      3  389.818821    6.345110  6.361315  569.699979  579.007272  9.177438   \n",
       "3      4  389.294408    6.256032  6.277458  521.147163  532.433679  9.056458   \n",
       "4      5  386.238709    6.158435  6.182516  472.687861  484.208913  8.919486   \n",
       "\n",
       "   train_bpc  memalloc_Gb  memcache_Gb  max_memalloc_Gb  max_memcache_Gb  \\\n",
       "0   9.390308     0.431330     4.879286         4.755397         4.879286   \n",
       "1   9.267375     0.351639     4.879286         4.755397         4.879286   \n",
       "2   9.154059     0.351639     4.879286         4.755397         4.879286   \n",
       "3   9.025547     0.351639     4.879286         4.755397         4.879286   \n",
       "4   8.884744     0.351639     4.879286         4.755397         4.879286   \n",
       "\n",
       "   asgd_triggered  \n",
       "0           False  \n",
       "1           False  \n",
       "2           False  \n",
       "3           False  \n",
       "4           False  "
      ]
     },
     "execution_count": 8,
     "metadata": {},
     "output_type": "execute_result"
    }
   ],
   "source": [
    "results_df = pd.read_csv('./results/experiment_5.csv')\n",
    "results_df.head()"
   ]
  },
  {
   "cell_type": "markdown",
   "metadata": {},
   "source": [
    "## Plot training curves"
   ]
  },
  {
   "cell_type": "code",
   "execution_count": 68,
   "metadata": {},
   "outputs": [
    {
     "data": {
      "image/png": "[encoded data removed]",
      "text/plain": [
       "<Figure size 720x432 with 1 Axes>"
      ]
     },
     "metadata": {
      "needs_background": "light"
     },
     "output_type": "display_data"
    }
   ],
   "source": [
    "def plot_results(df, title):\n",
    "    plt.figure(figsize=(10,6))\n",
    "    \n",
    "    plt.plot(df['epoch'], df['train_ppl'], 'y--', label='training')\n",
    "    plt.plot(df['epoch'], df['val_ppl'], 'r', label=f'validation')\n",
    "    \n",
    "    plt.title(title)\n",
    "    plt.legend(loc='best')\n",
    "    plt.xlabel('epoch')\n",
    "    plt.ylabel('perplexity')\n",
    "    plt.axhline(100, color='black', alpha=0.5, dashes=(10., 10.))\n",
    "    \n",
    "    plt.axis([0, 500, 0, 200]);\n",
    "    \n",
    "\n",
    "plot_results(results_df, 'Validation and training perplexity over 500 epochs')"
   ]
  },
  {
   "cell_type": "markdown",
   "metadata": {},
   "source": [
    "## What was best performance?"
   ]
  },
  {
   "cell_type": "code",
   "execution_count": 67,
   "metadata": {},
   "outputs": [
    {
     "data": {
      "text/html": [
       "<div>\n",
       "<style scoped>\n",
       "    .dataframe tbody tr th:only-of-type {\n",
       "        vertical-align: middle;\n",
       "    }\n",
       "\n",
       "    .dataframe tbody tr th {\n",
       "        vertical-align: top;\n",
       "    }\n",
       "\n",
       "    .dataframe thead th {\n",
       "        text-align: right;\n",
       "    }\n",
       "</style>\n",
       "<table border=\"1\" class=\"dataframe\">\n",
       "  <thead>\n",
       "    <tr style=\"text-align: right;\">\n",
       "      <th></th>\n",
       "      <th>epoch</th>\n",
       "      <th>time</th>\n",
       "      <th>train_loss</th>\n",
       "      <th>val_loss</th>\n",
       "      <th>train_ppl</th>\n",
       "      <th>val_ppl</th>\n",
       "      <th>val_bpc</th>\n",
       "      <th>train_bpc</th>\n",
       "      <th>memalloc_Gb</th>\n",
       "      <th>memcache_Gb</th>\n",
       "      <th>max_memalloc_Gb</th>\n",
       "      <th>max_memcache_Gb</th>\n",
       "      <th>asgd_triggered</th>\n",
       "    </tr>\n",
       "  </thead>\n",
       "  <tbody>\n",
       "    <tr>\n",
       "      <th>499</th>\n",
       "      <td>500</td>\n",
       "      <td>397.330289</td>\n",
       "      <td>3.47106</td>\n",
       "      <td>4.511274</td>\n",
       "      <td>32.170815</td>\n",
       "      <td>91.037744</td>\n",
       "      <td>6.508393</td>\n",
       "      <td>5.007681</td>\n",
       "      <td>0.522186</td>\n",
       "      <td>4.957405</td>\n",
       "      <td>4.847302</td>\n",
       "      <td>4.957405</td>\n",
       "      <td>True</td>\n",
       "    </tr>\n",
       "  </tbody>\n",
       "</table>\n",
       "</div>"
      ],
      "text/plain": [
       "     epoch        time  train_loss  val_loss  train_ppl    val_ppl   val_bpc  \\\n",
       "499    500  397.330289     3.47106  4.511274  32.170815  91.037744  6.508393   \n",
       "\n",
       "     train_bpc  memalloc_Gb  memcache_Gb  max_memalloc_Gb  max_memcache_Gb  \\\n",
       "499   5.007681     0.522186     4.957405         4.847302         4.957405   \n",
       "\n",
       "     asgd_triggered  \n",
       "499            True  "
      ]
     },
     "execution_count": 67,
     "metadata": {},
     "output_type": "execute_result"
    }
   ],
   "source": [
    "best_result = results_df[results_df['val_ppl'] == results_df['val_ppl'].min()]\n",
    "best_result"
   ]
  },
  {
   "cell_type": "code",
   "execution_count": 72,
   "metadata": {},
   "outputs": [
    {
     "name": "stdout",
     "output_type": "stream",
     "text": [
      "lowest perplexity: 91.03774439999424\n"
     ]
    }
   ],
   "source": [
    "print(f'lowest perplexity: {results_df[\"val_ppl\"].min()}')"
   ]
  },
  {
   "cell_type": "code",
   "execution_count": null,
   "metadata": {},
   "outputs": [],
   "source": []
  }
 ],
 "metadata": {
  "kernelspec": {
   "display_name": "Python 3",
   "language": "python",
   "name": "python3"
  },
  "language_info": {
   "codemirror_mode": {
    "name": "ipython",
    "version": 3
   },
   "file_extension": ".py",
   "mimetype": "text/x-python",
   "name": "python",
   "nbconvert_exporter": "python",
   "pygments_lexer": "ipython3",
   "version": "3.6.8"
  }
 },
 "nbformat": 4,
 "nbformat_minor": 2
}
